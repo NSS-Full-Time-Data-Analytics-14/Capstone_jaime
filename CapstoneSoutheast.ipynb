{
 "cells": [
  {
   "cell_type": "code",
   "execution_count": null,
   "id": "758765ff-9f99-4503-90a7-48d1e494eaa8",
   "metadata": {},
   "outputs": [],
   "source": [
    "import requests\n",
    "from bs4 import BeautifulSoup as BS\n",
    "import pandas as pd\n",
    "import numpy as np\n",
    "import re\n",
    "import matplotlib.pyplot as plt\n",
    "import seaborn as sns"
   ]
  },
  {
   "cell_type": "code",
   "execution_count": null,
   "id": "319e5e7d-86fb-4a80-a745-95ca05fb78b5",
   "metadata": {},
   "outputs": [],
   "source": [
    "DavidsonDiversity = pd.read_csv('C:/Users/Jaime/Documents/NSS/Python/data/CapstoneData/Population/Davidson/Davidson Diversity.csv')\n",
    "DavidsonEducation = pd.read_csv('C:/Users/Jaime/Documents/NSS/Python/data/CapstoneData/Population/Davidson/Davidson Education.csv')\n",
    "DavidsonEmployment = pd.read_csv('C:/Users/Jaime/Documents/NSS/Python/data/CapstoneData/Population/Davidson/Davidson Employment.csv')\n",
    "DavidsonHousehold = pd.read_csv('C:/Users/Jaime/Documents/NSS/Python/data/CapstoneData/Population/Davidson/Davidson Household.csv')\n",
    "DavidsonIncome = pd.read_csv('C:/Users/Jaime/Documents/NSS/Python/data/CapstoneData/Population/Davidson/Davidson Income.csv')\n",
    "DavidsonOccupancy = pd.read_csv('C:/Users/Jaime/Documents/NSS/Python/data/CapstoneData/Population/Davidson/Davidson Occupancy.csv')"
   ]
  },
  {
   "cell_type": "markdown",
   "id": "e379573c-0aa5-4de8-8ed8-32c335e5ccff",
   "metadata": {},
   "source": [
    "### DavidsonDiversity"
   ]
  },
  {
   "cell_type": "code",
   "execution_count": null,
   "id": "f45759df-56bf-4ca4-8758-c4b83df6b4b6",
   "metadata": {},
   "outputs": [],
   "source": [
    "DavidsonDiversity = DavidsonDiversity.rename(columns={'Label (Grouping)':'Group','Davidson County, Tennessee':'Population'}).reset_index(drop=True)\n",
    "DavidsonDiversity = DavidsonDiversity.drop([2, 3])\n",
    "DavidsonDiversity = DavidsonDiversity.head(8).reset_index(drop = True)\n",
    "DavidsonDiversity.to_csv('DavidsonDiversity.csv')"
   ]
  },
  {
   "cell_type": "code",
   "execution_count": null,
   "id": "8096e397-0dee-4d68-933b-55cc7e886467",
   "metadata": {},
   "outputs": [],
   "source": [
    "DavidsonEmployment = DavidsonEmployment.rename(columns= {'Label (Grouping)':'Groups','Davidson County, Tennessee!!Estimate':'Population'}).reset_index(drop=True)\n",
    "DavidsonEmployment =  DavidsonEmployment[['Groups','Population']]\n",
    "DavidsonEmployment"
   ]
  },
  {
   "cell_type": "markdown",
   "id": "191cca44-c424-49fe-9417-5a7aae6155ab",
   "metadata": {},
   "source": [
    "### DavidsonIncomeLevels"
   ]
  },
  {
   "cell_type": "code",
   "execution_count": null,
   "id": "16f22b16-97f0-46d6-aba6-9010ce060361",
   "metadata": {},
   "outputs": [],
   "source": [
    "DavidsonIncomeLevels = DavidsonEmployment.loc[56:66].reset_index(drop=True)\n",
    "DavidsonIncomeLevels.to_csv('DavidsonIncomeLevels.csv')"
   ]
  },
  {
   "cell_type": "markdown",
   "id": "7994ce34-8008-4ffc-8042-48d014cd2d97",
   "metadata": {},
   "source": [
    "## DavidsonEmploymentGroups"
   ]
  },
  {
   "cell_type": "code",
   "execution_count": null,
   "id": "db85cfd4-31cb-4f6e-b869-13df2df8770e",
   "metadata": {},
   "outputs": [],
   "source": [
    "DavidsonEmploymentGroups = DavidsonEmployment.drop([0]).head(7).reset_index(drop = True)\n",
    "DavidsonEmploymentGroups.to_csv('DavidsonEmploymentGroups.csv')"
   ]
  },
  {
   "cell_type": "markdown",
   "id": "91ee29d0-d853-4331-b410-375ae9135537",
   "metadata": {},
   "source": [
    "### DavidsonEmploymentIndustries"
   ]
  },
  {
   "cell_type": "code",
   "execution_count": null,
   "id": "ecfd2fd2-0b75-4323-b065-b34c32aa843d",
   "metadata": {},
   "outputs": [],
   "source": [
    "DavidsonEmploymentIndustries = DavidsonEmployment.loc[35:48].reset_index(drop=True)\n",
    "DavidsonEmploymentIndustries.to_csv('DavidsonEmploymentIndustries.csv')"
   ]
  },
  {
   "cell_type": "code",
   "execution_count": null,
   "id": "27deccb7-44a9-44e9-8490-d9f7ecf1b8c6",
   "metadata": {},
   "outputs": [],
   "source": [
    "DavidsonEducation= DavidsonEducation.rename(columns= {'Label (Grouping)':'Groups','Davidson County, Tennessee!!Total!!Estimate':'Total'})\n",
    "DavidsonEducation= DavidsonEducation[['Groups','Total']]\n",
    "DavidsonEducation"
   ]
  },
  {
   "cell_type": "markdown",
   "id": "503ef798-ba79-4ced-a601-22c7cbcbc760",
   "metadata": {},
   "source": [
    "### DavidsonEducationLevels"
   ]
  },
  {
   "cell_type": "code",
   "execution_count": null,
   "id": "b33bf1fc-2fd2-4b59-9591-2782d5c05dbe",
   "metadata": {},
   "outputs": [],
   "source": [
    "DavidsonEducationLevels = DavidsonEducation.loc[[1,3,5,6,9,15]].reset_index(drop=True)\n",
    "DavidsonEducationLevels.to_csv('DavidsonEducationLevels.csv')"
   ]
  },
  {
   "cell_type": "markdown",
   "id": "c12bd8b7-92a2-4326-b9ab-2b47fb5bbb96",
   "metadata": {},
   "source": [
    "### DavidsonHouseholdAncestry"
   ]
  },
  {
   "cell_type": "code",
   "execution_count": null,
   "id": "4bbd4fe5-9721-446f-aca6-ebf8f6a0a90f",
   "metadata": {},
   "outputs": [],
   "source": [
    "DavidsonHousehold= DavidsonHousehold.rename(columns={'Label (Grouping)':'Groups','Davidson County, Tennessee!!Estimate':'Total'})\n",
    "DavidsonHousehold= DavidsonHousehold[['Groups','Total']]\n",
    "DavidsonHouseholdAncestry = DavidsonHousehold.loc[140:167].reset_index(drop=True)\n",
    "DavidsonHouseholdAncestry.to_csv('DavidsonHouseholdAncestry.csv')"
   ]
  },
  {
   "cell_type": "markdown",
   "id": "c2059d5d-dc6c-436e-b510-cb07c1ed5943",
   "metadata": {},
   "source": [
    "# Fulton"
   ]
  },
  {
   "cell_type": "code",
   "execution_count": null,
   "id": "5e3c3bd3-d5f8-4278-b0b9-c2359e9d1096",
   "metadata": {},
   "outputs": [],
   "source": [
    "FultonDiversity = pd.read_csv('C:/Users/Jaime/Documents/NSS/Python/data/CapstoneData/Population/Fulton/Fulton Diversity.csv')\n",
    "FultonEducation = pd.read_csv('C:/Users/Jaime/Documents/NSS/Python/data/CapstoneData/Population/Fulton/Fulton Education.csv')\n",
    "FultonEmployment = pd.read_csv('C:/Users/Jaime/Documents/NSS/Python/data/CapstoneData/Population/Fulton/Fulton Employment.csv')\n",
    "FultonHousehold = pd.read_csv('C:/Users/Jaime/Documents/NSS/Python/data/CapstoneData/Population/Fulton/Fulton Household.csv')\n",
    "FultonIncome = pd.read_csv('C:/Users/Jaime/Documents/NSS/Python/data/CapstoneData/Population/Fulton/Fulton Income.csv')\n",
    "FultonOccupancy = pd.read_csv('C:/Users/Jaime/Documents/NSS/Python/data/CapstoneData/Population/Fulton/Fulton Occupancy.csv')"
   ]
  },
  {
   "cell_type": "code",
   "execution_count": null,
   "id": "e5fab88b-5c60-4baa-a0cf-c553dff800ab",
   "metadata": {},
   "outputs": [],
   "source": [
    "FultonDiversity = FultonDiversity.rename(columns={'Label (Grouping)':'Group','Fulton County, Georgia':'Population'}).reset_index(drop=True)\n",
    "FultonDiversity = FultonDiversity.drop([2, 3])\n",
    "FultonDiversity = FultonDiversity.head(8).reset_index(drop = True)\n",
    "FultonDiversity.to_csv('FultonDiversity.csv')"
   ]
  },
  {
   "cell_type": "code",
   "execution_count": null,
   "id": "e0ba9f17-22ec-47d9-a9c4-7c2a93c14550",
   "metadata": {},
   "outputs": [],
   "source": [
    "FultonEmployment = FultonEmployment.rename(columns= {'Label (Grouping)':'Groups','Fulton County, Georgia!!Estimate':'Population'}).reset_index(drop=True)\n",
    "FultonEmployment =  FultonEmployment[['Groups','Population']]\n",
    "FultonEmployment"
   ]
  },
  {
   "cell_type": "code",
   "execution_count": null,
   "id": "e2058efd-189b-4fc6-8232-605da1b490fd",
   "metadata": {},
   "outputs": [],
   "source": [
    "FultonIncomeLevels = FultonEmployment.loc[56:66].reset_index(drop=True)\n",
    "FultonIncomeLevels.to_csv('FultonIncomeLevels.csv')"
   ]
  },
  {
   "cell_type": "code",
   "execution_count": null,
   "id": "529672d0-8914-4931-baf6-ea0e858cc4a5",
   "metadata": {},
   "outputs": [],
   "source": [
    "FultonEmploymentGroups = FultonEmployment.drop([0]).head(7).reset_index(drop = True)\n",
    "FultonEmploymentGroups.to_csv('FultonEmploymentGroups.csv')"
   ]
  },
  {
   "cell_type": "code",
   "execution_count": null,
   "id": "f3816fcc-b57a-428a-a206-3740e339f0b5",
   "metadata": {},
   "outputs": [],
   "source": [
    "FultonEmploymentIndustries = FultonEmployment.loc[35:48].reset_index(drop=True)\n",
    "FultonEmploymentIndustries.to_csv('FultonEmploymentIndustries.csv')"
   ]
  },
  {
   "cell_type": "code",
   "execution_count": null,
   "id": "7681e6b7-2e82-4e5e-81a6-f6a09e504f15",
   "metadata": {},
   "outputs": [],
   "source": [
    "FultonEducation= FultonEducation.rename(columns= {'Label (Grouping)':'Groups','Fulton County, Georgia!!Total!!Estimate':'Total'})\n",
    "FultonEducation= FultonEducation[['Groups','Total']]\n",
    "FultonEducation"
   ]
  },
  {
   "cell_type": "code",
   "execution_count": null,
   "id": "9b354124-b7a0-4733-8a8e-7726e4bdc395",
   "metadata": {},
   "outputs": [],
   "source": [
    "FultonEducationLevels = FultonEducation.loc[[1,3,5,6,9,15]].reset_index(drop=True)\n",
    "FultonEducationLevels.to_csv('FultonEducationLevels.csv')"
   ]
  },
  {
   "cell_type": "code",
   "execution_count": null,
   "id": "0d3e332c-963d-4a60-91dd-9c2ec3836705",
   "metadata": {},
   "outputs": [],
   "source": [
    "FultonHousehold= FultonHousehold.rename(columns={'Label (Grouping)':'Groups','Fulton County, Georgia!!Estimate':'Total'})\n",
    "FultonHousehold= FultonHousehold[['Groups','Total']]\n",
    "FultonHouseholdAncestry = FultonHousehold.loc[140:167].reset_index(drop=True)\n",
    "FultonHouseholdAncestry.to_csv('FultonHouseholdAncestry.csv')"
   ]
  },
  {
   "cell_type": "markdown",
   "id": "ce953f01-24a9-43d0-b8f2-394fceec5e61",
   "metadata": {},
   "source": [
    "# Shelby"
   ]
  },
  {
   "cell_type": "code",
   "execution_count": null,
   "id": "3745bdfc-4b66-46d3-8133-d4ad8f677df5",
   "metadata": {},
   "outputs": [],
   "source": [
    "ShelbyDiversity = pd.read_csv('C:/Users/Jaime/Documents/NSS/Python/data/CapstoneData/Population/Shelby/Shelby Diversity.csv')\n",
    "ShelbyEducation = pd.read_csv('C:/Users/Jaime/Documents/NSS/Python/data/CapstoneData/Population/Shelby/Shelby Education.csv')\n",
    "ShelbyEmployment = pd.read_csv('C:/Users/Jaime/Documents/NSS/Python/data/CapstoneData/Population/Shelby/Shelby Employment.csv')\n",
    "ShelbyHousehold = pd.read_csv('C:/Users/Jaime/Documents/NSS/Python/data/CapstoneData/Population/Shelby/Shelby Household.csv')\n",
    "ShelbyIncome = pd.read_csv('C:/Users/Jaime/Documents/NSS/Python/data/CapstoneData/Population/Shelby/Shelby Income.csv')\n",
    "ShelbyOccupancy = pd.read_csv('C:/Users/Jaime/Documents/NSS/Python/data/CapstoneData/Population/Shelby/Shelby Occupancy.csv')"
   ]
  },
  {
   "cell_type": "code",
   "execution_count": null,
   "id": "d7d89a95-54c9-4a97-973f-46ce47a5d8e9",
   "metadata": {},
   "outputs": [],
   "source": [
    "ShelbyDiversity = ShelbyDiversity.rename(columns={'Label (Grouping)':'Group','Shelby County, Tennessee':'Population'}).reset_index(drop=True)\n",
    "ShelbyDiversity = ShelbyDiversity.drop([2, 3])\n",
    "ShelbyDiversity = ShelbyDiversity.head(8).reset_index(drop = True)\n",
    "ShelbyDiversity.to_csv('ShelbyDiversity.csv')"
   ]
  },
  {
   "cell_type": "code",
   "execution_count": null,
   "id": "100ab5a6-dae2-4c87-a239-0401be6ceb62",
   "metadata": {},
   "outputs": [],
   "source": [
    "ShelbyEmployment = ShelbyEmployment.rename(columns= {'Label (Grouping)':'Groups','Shelby County, Tennessee!!Estimate':'Population'}).reset_index(drop=True)\n",
    "ShelbyEmployment =  ShelbyEmployment[['Groups','Population']]\n",
    "ShelbyEmployment"
   ]
  },
  {
   "cell_type": "code",
   "execution_count": null,
   "id": "76411c2b-d2a0-4983-bcef-9ba14ff7a604",
   "metadata": {},
   "outputs": [],
   "source": [
    "ShelbyIncomeLevels = ShelbyEmployment.loc[56:66].reset_index(drop=True)\n",
    "ShelbyIncomeLevels.to_csv('ShelbyIncomeLevels.csv')"
   ]
  },
  {
   "cell_type": "code",
   "execution_count": null,
   "id": "63487bd5-18e2-4d62-99ba-e56337821460",
   "metadata": {},
   "outputs": [],
   "source": [
    "ShelbyEmploymentGroups = ShelbyEmployment.drop([0]).head(7).reset_index(drop = True)\n",
    "ShelbyEmploymentGroups.to_csv('ShelbyEmploymentGroups.csv')"
   ]
  },
  {
   "cell_type": "code",
   "execution_count": null,
   "id": "6f06422c-d5dc-45ba-8116-d3996ff61d96",
   "metadata": {},
   "outputs": [],
   "source": [
    "ShelbyEmploymentIndustries = ShelbyEmployment.loc[35:48].reset_index(drop=True)\n",
    "ShelbyEmploymentIndustries.to_csv('ShelbyEmploymentIndustries.csv')"
   ]
  },
  {
   "cell_type": "code",
   "execution_count": null,
   "id": "6ce39694-726f-48ab-ad7b-e2efeef49cfb",
   "metadata": {},
   "outputs": [],
   "source": [
    "ShelbyEducation= ShelbyEducation.rename(columns= {'Label (Grouping)':'Groups','Shelby County, Tennessee!!Total!!Estimate':'Total'})\n",
    "ShelbyEducation= ShelbyEducation[['Groups','Total']]\n",
    "ShelbyEducation"
   ]
  },
  {
   "cell_type": "code",
   "execution_count": null,
   "id": "6e74a405-06d1-4f48-9a79-740720937f09",
   "metadata": {},
   "outputs": [],
   "source": [
    "ShelbyEducationLevels = ShelbyEducation.loc[[1,3,5,6,9,15]].reset_index(drop=True)\n",
    "ShelbyEducationLevels.to_csv('ShelbyEducationLevels.csv')"
   ]
  },
  {
   "cell_type": "code",
   "execution_count": null,
   "id": "2ed797a0-78f0-42f2-adfc-36cbc9c9244e",
   "metadata": {},
   "outputs": [],
   "source": [
    "ShelbyHousehold= ShelbyHousehold.rename(columns={'Label (Grouping)':'Groups','Shelby County, Tennessee!!Estimate':'Total'})\n",
    "ShelbyHousehold= ShelbyHousehold[['Groups','Total']]\n",
    "ShelbyHouseholdAncestry = ShelbyHousehold.loc[140:167].reset_index(drop=True)\n",
    "ShelbyHouseholdAncestry.to_csv('ShelbyHouseholdAncestry.csv')"
   ]
  },
  {
   "cell_type": "markdown",
   "id": "d07b42b1-44c6-4462-819e-11b038a1cf01",
   "metadata": {},
   "source": [
    "# Knox"
   ]
  },
  {
   "cell_type": "code",
   "execution_count": null,
   "id": "a3c3ccbd-a984-45e4-95fc-6d79ed82184d",
   "metadata": {},
   "outputs": [],
   "source": [
    "KnoxDiversity = pd.read_csv('C:/Users/Jaime/Documents/NSS/Python/data/CapstoneData/Population/Knox/Knox Diversity.csv')\n",
    "KnoxEducation = pd.read_csv('C:/Users/Jaime/Documents/NSS/Python/data/CapstoneData/Population/Knox/Knox Education.csv')\n",
    "KnoxEmployment = pd.read_csv('C:/Users/Jaime/Documents/NSS/Python/data/CapstoneData/Population/Knox/Knox Employment.csv')\n",
    "KnoxHousehold = pd.read_csv('C:/Users/Jaime/Documents/NSS/Python/data/CapstoneData/Population/Knox/Knox Household.csv')\n",
    "KnoxIncome = pd.read_csv('C:/Users/Jaime/Documents/NSS/Python/data/CapstoneData/Population/Knox/Knox Income.csv')\n",
    "KnoxOccupancy = pd.read_csv('C:/Users/Jaime/Documents/NSS/Python/data/CapstoneData/Population/Knox/Knox Occupancy.csv')"
   ]
  },
  {
   "cell_type": "code",
   "execution_count": null,
   "id": "6e78f337-303c-44ee-a172-7d99af569f26",
   "metadata": {},
   "outputs": [],
   "source": [
    "KnoxDiversity = KnoxDiversity.rename(columns={'Label (Grouping)':'Group','Knox County, Tennessee':'Population'}).reset_index(drop=True)\n",
    "KnoxDiversity = KnoxDiversity.drop([2, 3])\n",
    "KnoxDiversity = KnoxDiversity.head(8).reset_index(drop = True)\n",
    "KnoxDiversity.to_csv('KnoxDiversity.csv')"
   ]
  },
  {
   "cell_type": "code",
   "execution_count": null,
   "id": "6dc89135-a6f8-4313-8c7d-a3ba26d664c4",
   "metadata": {},
   "outputs": [],
   "source": [
    "KnoxEmployment = KnoxEmployment.rename(columns= {'Label (Grouping)':'Groups','Knox County, Tennessee!!Estimate':'Population'}).reset_index(drop=True)\n",
    "KnoxEmployment =  KnoxEmployment[['Groups','Population']]\n",
    "KnoxEmployment"
   ]
  },
  {
   "cell_type": "code",
   "execution_count": null,
   "id": "067b0a64-90d6-4745-9f13-6f46744a24fd",
   "metadata": {},
   "outputs": [],
   "source": [
    "KnoxIncomeLevels = KnoxEmployment.loc[56:66].reset_index(drop=True)\n",
    "KnoxIncomeLevels.to_csv('KnoxIncomeLevels.csv')"
   ]
  },
  {
   "cell_type": "code",
   "execution_count": null,
   "id": "591842c3-0d5c-4daf-83a3-5478c7093196",
   "metadata": {},
   "outputs": [],
   "source": [
    "KnoxEmploymentGroups = KnoxEmployment.drop([0]).head(7).reset_index(drop = True)\n",
    "KnoxEmploymentGroups.to_csv('KnoxEmploymentGroups.csv')"
   ]
  },
  {
   "cell_type": "code",
   "execution_count": null,
   "id": "1deed541-7b14-4632-bad8-b67d3ab02a2b",
   "metadata": {},
   "outputs": [],
   "source": [
    "KnoxEmploymentIndustries = KnoxEmployment.loc[35:48].reset_index(drop=True)\n",
    "KnoxEmploymentIndustries.to_csv('KnoxEmploymentIndustries.csv')"
   ]
  },
  {
   "cell_type": "code",
   "execution_count": null,
   "id": "209a2917-5fd5-4c5a-a4a0-8b6bb0c8fd15",
   "metadata": {},
   "outputs": [],
   "source": [
    "KnoxEducation= KnoxEducation.rename(columns= {'Label (Grouping)':'Groups','Knox County, Tennessee!!Total!!Estimate':'Total'})\n",
    "KnoxEducation= KnoxEducation[['Groups','Total']]\n",
    "KnoxEducation"
   ]
  },
  {
   "cell_type": "code",
   "execution_count": null,
   "id": "875a0623-b3a5-4a93-8da6-b575eebf84b6",
   "metadata": {},
   "outputs": [],
   "source": [
    "KnoxEducationLevels = KnoxEducation.loc[[1,3,5,6,9,15]].reset_index(drop=True)\n",
    "KnoxEducationLevels.to_csv('KnoxEducationLevels.csv')"
   ]
  },
  {
   "cell_type": "code",
   "execution_count": null,
   "id": "e01766bd-985c-4d7e-b783-bde769fd2c7b",
   "metadata": {},
   "outputs": [],
   "source": [
    "KnoxHousehold= KnoxHousehold.rename(columns={'Label (Grouping)':'Groups','Knox County, Tennessee!!Estimate':'Total'})\n",
    "KnoxHousehold= KnoxHousehold[['Groups','Total']]\n",
    "KnoxHouseholdAncestry = KnoxHousehold.loc[140:167].reset_index(drop=True)\n",
    "KnoxHouseholdAncestry.to_csv('KnoxHouseholdAncestry.csv')"
   ]
  },
  {
   "cell_type": "code",
   "execution_count": null,
   "id": "0ff12d46-54b7-4a23-a373-b4e13af3e1fd",
   "metadata": {},
   "outputs": [],
   "source": []
  },
  {
   "cell_type": "code",
   "execution_count": null,
   "id": "d42802f8-6c0c-4a5d-8040-ad0e361bb086",
   "metadata": {},
   "outputs": [],
   "source": []
  },
  {
   "cell_type": "code",
   "execution_count": null,
   "id": "71acf9e2-123e-434f-9fe2-077d31af7636",
   "metadata": {},
   "outputs": [],
   "source": [
    "DavidsonTransportation = pd.read_csv('C:/Users/Jaime/Documents/NSS/Python/data/CapstoneData/Population/Davidson/Davidson Employment.csv')\n",
    "DavidsonTransportation = DavidsonTransportation[19:27]\n",
    "DavidsonTransportation.to_csv('DavidsonTransportation.csv')"
   ]
  },
  {
   "cell_type": "code",
   "execution_count": null,
   "id": "a11c340e-1b6b-4b41-b1cd-9dea87e20c81",
   "metadata": {},
   "outputs": [],
   "source": [
    "DavidsonTransportation= DavidsonTransportation.rename(columns={'Davidson County, Tennessee!!Estimate':'Population'})\n",
    "DavidsonTransportation['Population']"
   ]
  },
  {
   "cell_type": "code",
   "execution_count": null,
   "id": "6bca735c-09ac-459e-b064-9ea7fe6b2dca",
   "metadata": {},
   "outputs": [],
   "source": []
  }
 ],
 "metadata": {
  "kernelspec": {
   "display_name": "Python 3 (ipykernel)",
   "language": "python",
   "name": "python3"
  },
  "language_info": {
   "codemirror_mode": {
    "name": "ipython",
    "version": 3
   },
   "file_extension": ".py",
   "mimetype": "text/x-python",
   "name": "python",
   "nbconvert_exporter": "python",
   "pygments_lexer": "ipython3",
   "version": "3.10.15"
  }
 },
 "nbformat": 4,
 "nbformat_minor": 5
}
