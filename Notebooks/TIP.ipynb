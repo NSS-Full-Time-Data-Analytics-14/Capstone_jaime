{
 "cells": [
  {
   "cell_type": "code",
   "execution_count": null,
   "id": "0dd5c27e-600f-4ee5-9165-a527bdf2b6a9",
   "metadata": {},
   "outputs": [],
   "source": [
    "import requests\n",
    "from bs4 import BeautifulSoup as BS\n",
    "import pandas as pd\n",
    "import numpy as np\n",
    "import re\n",
    "import matplotlib.pyplot as plt\n",
    "import seaborn as sns\n",
    "import pandas as pd\n",
    "import geopandas as gpd\n",
    "import matplotlib.pyplot as plt\n",
    "%matplotlib inline\n",
    "import folium\n",
    "from folium.plugins import MarkerCluster\n",
    "from folium.plugins import FastMarkerCluster"
   ]
  },
  {
   "cell_type": "code",
   "execution_count": null,
   "id": "c736fcf7-3686-4855-9c6e-ce3c1e4a5a5d",
   "metadata": {},
   "outputs": [],
   "source": [
    "all_access_corridors = gpd.read_file('C:/Users/Jaime/Documents/NSS/Capstone_jaime/data/CapstoneData/Transportation Improvement Plan/All_Access_Corridors.geojson')\n",
    "complete_streets = gpd.read_file('C:/Users/Jaime/Documents/NSS/Capstone_jaime/data/CapstoneData/Transportation Improvement Plan/Complete_Streets.geojson')\n",
    "express_service_routes = gpd.read_file('C:/Users/Jaime/Documents/NSS/Capstone_jaime/data/CapstoneData/Transportation Improvement Plan/Express_Service_Routes.geojson')\n",
    "frequent_network = gpd.read_file('C:/Users/Jaime/Documents/NSS/Capstone_jaime/data/CapstoneData/Transportation Improvement Plan/Frequent_Network.geojson')\n",
    "local_service_improvement = gpd.read_file('C:/Users/Jaime/Documents/NSS/Capstone_jaime/data/CapstoneData/Transportation Improvement Plan/Local_Service_Improvement.geojson')\n",
    "new_connector = gpd.read_file('C:/Users/Jaime/Documents/NSS/Capstone_jaime/data/CapstoneData/Transportation Improvement Plan/New_Connector.geojson')\n",
    "park_and_rides = gpd.read_file('C:/Users/Jaime/Documents/NSS/Capstone_jaime/data/CapstoneData/Transportation Improvement Plan/Park_and_Rides.geojson')\n",
    "sidewalks = gpd.read_file('C:/Users/Jaime/Documents/NSS/Capstone_jaime/data/CapstoneData/Transportation Improvement Plan/Sidewalks.geojson')\n",
    "signals_592 = gpd.read_file('C:/Users/Jaime/Documents/NSS/Capstone_jaime/data/CapstoneData/Transportation Improvement Plan/Signals_592.geojson')\n",
    "stop_improvements = gpd.read_file('C:/Users/Jaime/Documents/NSS/Capstone_jaime/data/CapstoneData/Transportation Improvement Plan/Stop_Improvements.geojson')\n",
    "transit_centers = gpd.read_file('C:/Users/Jaime/Documents/NSS/Capstone_jaime/data/CapstoneData/Transportation Improvement Plan/Transit_Centers.geojson')\n",
    "wego_star = gpd.read_file('C:/Users/Jaime/Documents/NSS/Capstone_jaime/data/CapstoneData/Transportation Improvement Plan/WeGo_STAR.geojson')\n",
    "new_routes = gpd.read_file('C:/Users/Jaime/Documents/NSS/Capstone_jaime/data/CapstoneData/Transportation Improvement Plan/New_Routes.geojson')\n",
    "zipcodes = gpd.read_file('C:/Users/Jaime/Documents/NSS/Python/geospatial-JaimeGarcia1998/data/zipcodes.geojson')\n",
    "election = pd.read_csv('C:/Users/Jaime/Documents//NSS/Capstone_jaime/data/CapstoneData/Other Data/votes.csv')"
   ]
  },
  {
   "cell_type": "code",
   "execution_count": null,
   "id": "755418fa-3714-4a31-b133-650627669558",
   "metadata": {},
   "outputs": [],
   "source": [
    "signals_592.plot()"
   ]
  },
  {
   "cell_type": "code",
   "execution_count": null,
   "id": "3bd0487c-ed22-4943-9c56-faab7407cb55",
   "metadata": {},
   "outputs": [],
   "source": [
    "transit_centers.plot()"
   ]
  },
  {
   "cell_type": "code",
   "execution_count": null,
   "id": "c5093306-eba4-4f99-8326-a59dea1a1c18",
   "metadata": {},
   "outputs": [],
   "source": [
    "park_and_rides.plot()"
   ]
  },
  {
   "cell_type": "code",
   "execution_count": null,
   "id": "0a1edda9-986b-4dc2-b6e8-9d872e9bbe55",
   "metadata": {},
   "outputs": [],
   "source": [
    "stop_improvements.plot()"
   ]
  },
  {
   "cell_type": "code",
   "execution_count": null,
   "id": "24993b2b-8c29-4e4f-bb56-6f5b64b9e98e",
   "metadata": {},
   "outputs": [],
   "source": []
  },
  {
   "cell_type": "code",
   "execution_count": null,
   "id": "2f3884c7-3959-47ce-b2a2-1481e9718d97",
   "metadata": {},
   "outputs": [],
   "source": []
  },
  {
   "cell_type": "code",
   "execution_count": null,
   "id": "be9ef75a-a072-4cb8-a834-625e2bbda16d",
   "metadata": {},
   "outputs": [],
   "source": []
  },
  {
   "cell_type": "code",
   "execution_count": null,
   "id": "01c5f8c4-76cc-4be8-859c-c659a7d93158",
   "metadata": {},
   "outputs": [],
   "source": []
  },
  {
   "cell_type": "code",
   "execution_count": null,
   "id": "12907617-cd56-4e4e-be3c-9d54905f2f9b",
   "metadata": {},
   "outputs": [],
   "source": [
    "\n",
    "leg_kwds = {'title': 'Zipcodes', 'loc': 'upper left', \n",
    "            'bbox_to_anchor': (1, 1.03), 'ncol': 2}\n",
    "\n",
    "zipcodes.plot(column = 'zip', figsize=(10, 10),\n",
    "              edgecolor = 'black',\n",
    "              legend = True, legend_kwds = leg_kwds, \n",
    "              cmap = 'Set2')\n",
    "plt.show()"
   ]
  },
  {
   "cell_type": "code",
   "execution_count": null,
   "id": "9fae3641-1cf0-47a2-9656-4058db51d55d",
   "metadata": {},
   "outputs": [],
   "source": []
  },
  {
   "cell_type": "code",
   "execution_count": null,
   "id": "ce624ad8-3a17-4d47-9318-c19f010da93d",
   "metadata": {},
   "outputs": [],
   "source": [
    "signals_592.head()"
   ]
  },
  {
   "cell_type": "code",
   "execution_count": null,
   "id": "e8cc5e3c-390a-4b1d-8cae-dc6509c7c5f9",
   "metadata": {},
   "outputs": [],
   "source": [
    "signals_592 = signals_592.to_crs(4326)\n",
    "signals_592['lng'] = signals_592.centroid.x  \n",
    "signals_592['lat'] = signals_592.centroid.y\n",
    "signals_592"
   ]
  },
  {
   "cell_type": "code",
   "execution_count": null,
   "id": "e3903dc0-ff6c-4240-8837-0b888a86bc7e",
   "metadata": {},
   "outputs": [],
   "source": [
    "geo_signals = gpd.GeoDataFrame(signals_592, \n",
    "                           crs = zipcodes.crs, \n",
    "                           geometry = gpd.points_from_xy(signals_592.lng, signals_592.lat))"
   ]
  },
  {
   "cell_type": "code",
   "execution_count": null,
   "id": "f6def6de-932a-46ee-9c7b-042f9e3b522f",
   "metadata": {},
   "outputs": [],
   "source": [
    "geo_signals"
   ]
  },
  {
   "cell_type": "code",
   "execution_count": null,
   "id": "f6f6e540-732f-4059-bc90-8623756664b5",
   "metadata": {},
   "outputs": [],
   "source": [
    "ax = zipcodes.plot(figsize = (8, 10), color = 'lightgreen')\n",
    "geo_signals.plot( ax = ax, column = 'Street2');\n",
    "plt.show();"
   ]
  },
  {
   "cell_type": "code",
   "execution_count": null,
   "id": "45d2c8c8-c36d-4ae3-a7f5-75b62a21082a",
   "metadata": {},
   "outputs": [],
   "source": [
    "zipcodes.geometry.centroid"
   ]
  },
  {
   "cell_type": "code",
   "execution_count": null,
   "id": "dc96865a-3464-49f5-8720-2449e0365096",
   "metadata": {},
   "outputs": [],
   "source": [
    "center = zipcodes.geometry.centroid[35]"
   ]
  },
  {
   "cell_type": "code",
   "execution_count": null,
   "id": "10f9bdf1-ca94-4f51-9f9b-aa2c363503ee",
   "metadata": {},
   "outputs": [],
   "source": [
    "area_center = [center.y,center.x]"
   ]
  },
  {
   "cell_type": "code",
   "execution_count": null,
   "id": "b94e7c7d-29a2-4c7b-9c42-b08f263c46ad",
   "metadata": {},
   "outputs": [],
   "source": [
    "map = folium.Map(location =  area_center, zoom_start = 12)\n",
    "map"
   ]
  },
  {
   "cell_type": "code",
   "execution_count": null,
   "id": "cfd82427-53f9-445d-8220-b69f467cb543",
   "metadata": {},
   "outputs": [],
   "source": []
  },
  {
   "cell_type": "code",
   "execution_count": null,
   "id": "49bd7f5e-cd0d-415e-ab01-9f08177ffcae",
   "metadata": {},
   "outputs": [],
   "source": [
    "#draw our zip code area: 37207\n",
    "map = folium.Map(location =  area_center, zoom_start = 11)\n",
    "\n",
    "folium.GeoJson(zipcodes).add_to(map)\n",
    "\n",
    "#iterate through stops_in_37207 to create locations and markers \n",
    "#for each bus stop\n",
    "#remember for Folium locations, lat is listed first!!\n",
    "\n",
    "for row_index, row_values in geo_signals.iterrows():\n",
    "    loc = [row_values['lat'], row_values['lng']]\n",
    "    pop = str(row_values['Street2'])\n",
    "    icon=folium.Icon(color=\"blue\",icon=\"traffic-light\", prefix='fa')\n",
    "    \n",
    "    marker = folium.Marker(\n",
    "        location = loc, \n",
    "        popup = pop, icon = icon) \n",
    "    marker.add_to(map)\n",
    "    map.save('C:/Users/Jaime/Documents/NSS/Python/geospatial-JaimeGarcia1998/maps/signals.html')\n",
    "#display our map\n",
    "map"
   ]
  },
  {
   "cell_type": "code",
   "execution_count": null,
   "id": "f6f16c90-8564-4663-9300-b3df37e10227",
   "metadata": {},
   "outputs": [],
   "source": []
  },
  {
   "cell_type": "code",
   "execution_count": null,
   "id": "ec45fda3-0817-4e7c-b9c4-ed175e75c143",
   "metadata": {},
   "outputs": [],
   "source": [
    "transit_centers.head()"
   ]
  },
  {
   "cell_type": "code",
   "execution_count": null,
   "id": "eada220b-3c00-4146-84e8-5b3de970e1da",
   "metadata": {},
   "outputs": [],
   "source": [
    "transit_centers = transit_centers.to_crs(4326)\n",
    "transit_centers['lng'] = transit_centers.centroid.x  \n",
    "transit_centers['lat'] = transit_centers.centroid.y\n",
    "transit_centers"
   ]
  },
  {
   "cell_type": "code",
   "execution_count": null,
   "id": "4d1939c0-8336-4503-a804-00249abe9fd3",
   "metadata": {},
   "outputs": [],
   "source": [
    "geo_transit = gpd.GeoDataFrame(transit_centers, \n",
    "                           crs = zipcodes.crs, \n",
    "                           geometry = gpd.points_from_xy(transit_centers.lng, transit_centers.lat))"
   ]
  },
  {
   "cell_type": "code",
   "execution_count": null,
   "id": "7ef3d7e5-ff4a-43a2-83f7-ec45fefa8c40",
   "metadata": {},
   "outputs": [],
   "source": [
    "geo_transit"
   ]
  },
  {
   "cell_type": "code",
   "execution_count": null,
   "id": "9f946d3b-f63d-42d2-814e-a01434f7647b",
   "metadata": {},
   "outputs": [],
   "source": [
    "ax = zipcodes.plot(figsize = (8, 10), color = 'lightgreen')\n",
    "geo_transit.plot( ax = ax, column = 'Element');\n",
    "plt.show();"
   ]
  },
  {
   "cell_type": "code",
   "execution_count": null,
   "id": "9aa909d7-aa02-4af3-9268-392e57963b69",
   "metadata": {},
   "outputs": [],
   "source": []
  },
  {
   "cell_type": "code",
   "execution_count": null,
   "id": "7444e8c8-16e7-4098-a071-eb19022eb4c9",
   "metadata": {},
   "outputs": [],
   "source": [
    "#draw our zip code area: 37207\n",
    "map2 = folium.Map(location =  area_center, zoom_start = 11)\n",
    "\n",
    "folium.GeoJson(zipcodes).add_to(map2)\n",
    "\n",
    "#iterate through stops_in_37207 to create locations and markers \n",
    "#for each bus stop\n",
    "#remember for Folium locations, lat is listed first!!\n",
    "\n",
    "for row_index, row_values in geo_transit.iterrows():\n",
    "    loc = [row_values['lat'], row_values['lng']]\n",
    "    pop = str(row_values['Element'])\n",
    "    icon=folium.Icon(color=\"blue\",icon=\"bus\", prefix='fa')\n",
    "    \n",
    "    marker = folium.Marker(\n",
    "        location = loc, \n",
    "        popup = pop, icon = icon) \n",
    "    marker.add_to(map2)\n",
    "    map2.save('C:/Users/Jaime/Documents/NSS/Python/geospatial-JaimeGarcia1998/maps/transit.html')\n",
    "#display our map\n",
    "map2"
   ]
  },
  {
   "cell_type": "code",
   "execution_count": null,
   "id": "fcc69e14-a190-4975-852a-5600fa18bc8f",
   "metadata": {},
   "outputs": [],
   "source": [
    "park_and_rides = park_and_rides.to_crs(4326)\n",
    "park_and_rides['lng'] = park_and_rides.centroid.x  \n",
    "park_and_rides['lat'] = park_and_rides.centroid.y\n",
    "park_and_rides"
   ]
  },
  {
   "cell_type": "code",
   "execution_count": null,
   "id": "43a9a2fe-49f7-41d3-9475-35efd5b7f8ab",
   "metadata": {},
   "outputs": [],
   "source": [
    "geo_park_and_rides = gpd.GeoDataFrame(park_and_rides, \n",
    "                           crs = zipcodes.crs, \n",
    "                           geometry = gpd.points_from_xy(park_and_rides.lng, park_and_rides.lat))\n",
    "geo_park_and_rides"
   ]
  },
  {
   "cell_type": "code",
   "execution_count": null,
   "id": "b6951efc-c850-410c-8968-9d022548be97",
   "metadata": {},
   "outputs": [],
   "source": [
    "for row_index, row_values in geo_park_and_rides.iterrows():\n",
    "    loc = [row_values['lat'], row_values['lng']]\n",
    "    pop = str(row_values['Element'])\n",
    "    icon=folium.Icon(color=\"red\",icon=\"bus\", prefix='fa')\n",
    "    \n",
    "    marker = folium.Marker(\n",
    "        location = loc, \n",
    "        popup = pop, icon = icon) \n",
    "    marker.add_to(map2)\n",
    "    map2.save('C:/Users/Jaime/Documents/NSS/Python/geospatial-JaimeGarcia1998/maps/park_and_rides.html')\n",
    "#display our map\n",
    "map2"
   ]
  },
  {
   "cell_type": "code",
   "execution_count": null,
   "id": "6e3a0e6a-755b-4fb8-ab6b-b9bc49e491fa",
   "metadata": {},
   "outputs": [],
   "source": [
    "stop_improvements"
   ]
  },
  {
   "cell_type": "code",
   "execution_count": null,
   "id": "f4567afa-3b18-41b5-8d82-527c189f52a6",
   "metadata": {},
   "outputs": [],
   "source": [
    "stop_improvements = stop_improvements.to_crs(4326)\n",
    "stop_improvements['lng'] = stop_improvements.centroid.x  \n",
    "stop_improvements['lat'] = stop_improvements.centroid.y\n",
    "stop_improvements"
   ]
  },
  {
   "cell_type": "code",
   "execution_count": null,
   "id": "8591424a-81b0-4516-bfe2-3dfb9425b716",
   "metadata": {},
   "outputs": [],
   "source": [
    "geo_stop_improvements = gpd.GeoDataFrame(stop_improvements, \n",
    "                           crs = zipcodes.crs, \n",
    "                           geometry = gpd.points_from_xy(stop_improvements.lng, stop_improvements.lat))\n",
    "geo_stop_improvements"
   ]
  },
  {
   "cell_type": "code",
   "execution_count": null,
   "id": "44b57990-abcb-4b23-8499-b773ba744960",
   "metadata": {},
   "outputs": [],
   "source": [
    "for row_index, row_values in geo_stop_improvements.iterrows():\n",
    "    loc = [row_values['lat'], row_values['lng']]\n",
    "    pop = str(row_values['StopName'])\n",
    "    icon=folium.Icon(color=\"green\",icon=\"bus\", prefix='fa')\n",
    "    \n",
    "    marker = folium.Marker(\n",
    "        location = loc, \n",
    "        popup = pop, icon = icon) \n",
    "    marker.add_to(map2)\n",
    "    map2.save('C:/Users/Jaime/Documents/NSS/Python/geospatial-JaimeGarcia1998/maps/stop_improvements.html')\n",
    "#display our map\n",
    "map2"
   ]
  },
  {
   "cell_type": "code",
   "execution_count": null,
   "id": "61c0325a-9780-4245-adeb-6d9f61515851",
   "metadata": {},
   "outputs": [],
   "source": [
    "all_access_corridors.plot()"
   ]
  },
  {
   "cell_type": "code",
   "execution_count": null,
   "id": "9803459b-da60-44c3-9dd3-ee6c1adfe910",
   "metadata": {},
   "outputs": [],
   "source": [
    "all_access_corridors = all_access_corridors.to_crs(4326)\n",
    "all_access_corridors['lng'] = all_access_corridors.centroid.x  \n",
    "all_access_corridors['lat'] = all_access_corridors.centroid.y\n",
    "all_access_corridors"
   ]
  },
  {
   "cell_type": "code",
   "execution_count": null,
   "id": "b820d299-09e1-4a7b-97cd-5d5522382fa8",
   "metadata": {},
   "outputs": [],
   "source": [
    "geo_all_access_corridors = gpd.GeoDataFrame(all_access_corridors, \n",
    "                           crs = zipcodes.crs, \n",
    "                           geometry = all_access_corridors.geometry)\n",
    "geo_all_access_corridors"
   ]
  },
  {
   "cell_type": "code",
   "execution_count": null,
   "id": "39b293b5-509f-4c9c-bc8d-ce88c4e83772",
   "metadata": {},
   "outputs": [],
   "source": [
    "geo_complete_streets = gpd.GeoDataFrame(complete_streets, \n",
    "                           crs = zipcodes.crs, \n",
    "                           geometry = complete_streets.geometry)\n",
    "geo_complete_streets"
   ]
  },
  {
   "cell_type": "code",
   "execution_count": null,
   "id": "dbabddb3-7614-4ff4-b3f9-e03940e3c07e",
   "metadata": {},
   "outputs": [],
   "source": [
    "leg_kwds = {'title': 'Complete Streets', 'loc': 'upper left', \n",
    "            'bbox_to_anchor': (1, 1.03), 'ncol': 2}\n",
    "ax = zipcodes.plot(figsize = (8, 10), color = 'olive')\n",
    "geo_complete_streets.plot(ax = ax,column = 'OnStreet', figsize=(10, 10),\n",
    "              legend = True, legend_kwds = leg_kwds, \n",
    "              cmap = 'prism')\n",
    "ax.set_xticklabels([]) \n",
    "ax.set_yticklabels([]) \n",
    "plt.savefig(\"Complete Streets.png\", transparent=True,bbox_inches='tight')\n",
    "plt.show()"
   ]
  },
  {
   "cell_type": "code",
   "execution_count": null,
   "id": "7ee2ebbe-118a-44bf-bd26-a000742b2ace",
   "metadata": {},
   "outputs": [],
   "source": [
    "leg_kwds = {'title': 'All Access Corridors', 'loc': 'upper left', \n",
    "            'bbox_to_anchor': (1, 1.03), 'ncol': 2}\n",
    "ax = zipcodes.plot(figsize = (8, 10), color = 'olive')\n",
    "geo_all_access_corridors.plot(ax = ax,column = 'Element', figsize=(10, 10),\n",
    "              legend = True, legend_kwds = leg_kwds, \n",
    "              cmap = 'gist_rainbow')\n",
    "ax.set_xticklabels([]) \n",
    "ax.set_yticklabels([]) \n",
    "plt.savefig(\"All Access Corridors.png\", transparent=True,bbox_inches='tight')\n",
    "plt.show()"
   ]
  },
  {
   "cell_type": "code",
   "execution_count": null,
   "id": "52789e17-d1b9-4d7c-b9fb-2c891219d495",
   "metadata": {},
   "outputs": [],
   "source": [
    "geo_express_service_routes = gpd.GeoDataFrame(express_service_routes, \n",
    "                           crs = zipcodes.crs, \n",
    "                           geometry = express_service_routes.geometry)\n",
    "geo_express_service_routes"
   ]
  },
  {
   "cell_type": "code",
   "execution_count": null,
   "id": "e92e9522-4f1c-4404-9089-22882cd0f152",
   "metadata": {},
   "outputs": [],
   "source": [
    "leg_kwds = {'title': 'Express Service Routes', 'loc': 'upper left', \n",
    "            'bbox_to_anchor': (1, 1.03), 'ncol': 2}\n",
    "ax = zipcodes.plot(figsize = (8, 10), color = 'olive')\n",
    "geo_express_service_routes.plot(ax = ax,column = 'Element', figsize=(10, 10),\n",
    "              legend = True, legend_kwds = leg_kwds, \n",
    "              cmap = 'gist_rainbow')\n",
    "ax.set_xticklabels([]) \n",
    "ax.set_yticklabels([]) \n",
    "plt.savefig(\"Express Service Routes.png\", transparent=True,bbox_inches='tight')\n",
    "plt.show()"
   ]
  },
  {
   "cell_type": "code",
   "execution_count": null,
   "id": "8633ba6b-964c-499b-b31d-e61815835b7f",
   "metadata": {},
   "outputs": [],
   "source": [
    "geo_frequent_network = gpd.GeoDataFrame(frequent_network, \n",
    "                           crs = zipcodes.crs, \n",
    "                           geometry = frequent_network.geometry)\n",
    "geo_frequent_network"
   ]
  },
  {
   "cell_type": "code",
   "execution_count": null,
   "id": "7817be22-2621-432e-8b58-1fe5b2fd936d",
   "metadata": {},
   "outputs": [],
   "source": [
    "leg_kwds = {'title': 'Frequent Network', 'loc': 'upper left', \n",
    "            'bbox_to_anchor': (1, 1.03), 'ncol': 2}\n",
    "ax = zipcodes.plot(figsize = (8, 10), color = 'olive')\n",
    "geo_frequent_network.plot(ax = ax,column = 'Element', figsize=(10, 10),\n",
    "              legend = True, legend_kwds = leg_kwds, \n",
    "              cmap = 'gist_rainbow')\n",
    "ax.set_xticklabels([]) \n",
    "ax.set_yticklabels([]) \n",
    "plt.savefig(\"Frequent Network.png\", transparent=True,bbox_inches='tight')\n",
    "plt.show()"
   ]
  },
  {
   "cell_type": "code",
   "execution_count": null,
   "id": "489dfc71-7631-43f8-85a3-4d433a875c99",
   "metadata": {},
   "outputs": [],
   "source": [
    "geo_local_service_improvement = gpd.GeoDataFrame(local_service_improvement, \n",
    "                           crs = zipcodes.crs, \n",
    "                           geometry = local_service_improvement.geometry)\n",
    "geo_local_service_improvement"
   ]
  },
  {
   "cell_type": "code",
   "execution_count": null,
   "id": "96305e7d-37a4-4292-a9cf-9344dcce8272",
   "metadata": {},
   "outputs": [],
   "source": [
    "leg_kwds = {'title': 'Local Service Improvement', 'loc': 'upper left', \n",
    "            'bbox_to_anchor': (1, 1.03), 'ncol': 2}\n",
    "ax = zipcodes.plot(figsize = (8, 10), color = 'olive')\n",
    "geo_local_service_improvement.plot(ax = ax,column = 'Element', figsize=(10, 10),\n",
    "              legend = True, legend_kwds = leg_kwds, \n",
    "              cmap = 'gist_rainbow')\n",
    "ax.set_xticklabels([]) \n",
    "ax.set_yticklabels([]) \n",
    "plt.savefig(\"Local Service Improvement.png\", transparent=True,bbox_inches='tight')\n",
    "plt.show()"
   ]
  },
  {
   "cell_type": "code",
   "execution_count": null,
   "id": "de090258-8457-4f30-aefc-2fbed9524945",
   "metadata": {},
   "outputs": [],
   "source": [
    "geo_new_connector = gpd.GeoDataFrame(new_connector, \n",
    "                           crs = zipcodes.crs, \n",
    "                           geometry = new_connector.geometry)\n",
    "geo_new_connector"
   ]
  },
  {
   "cell_type": "code",
   "execution_count": null,
   "id": "9ed921ce-0d0a-47af-b9d5-ba0b4ae40e40",
   "metadata": {},
   "outputs": [],
   "source": [
    "leg_kwds = {'title': 'New Connector', 'loc': 'upper left', \n",
    "            'bbox_to_anchor': (1, 1.03), 'ncol': 2}\n",
    "ax = zipcodes.plot(figsize = (8, 10), color = 'olive')\n",
    "geo_new_connector.plot(ax = ax,column = 'Element', figsize=(10, 10),\n",
    "              legend = True, legend_kwds = leg_kwds, \n",
    "              cmap = 'gist_rainbow')\n",
    "ax.set_xticklabels([]) \n",
    "ax.set_yticklabels([]) \n",
    "plt.savefig(\"New Connector.png\", transparent=True,bbox_inches='tight')\n",
    "plt.show()"
   ]
  },
  {
   "cell_type": "code",
   "execution_count": null,
   "id": "b773302e-e0ac-4589-ac6d-3decea7dbc8c",
   "metadata": {},
   "outputs": [],
   "source": [
    "geo_sidewalks = gpd.GeoDataFrame(sidewalks, \n",
    "                           crs = zipcodes.crs, \n",
    "                           geometry = sidewalks.geometry)\n",
    "geo_sidewalks"
   ]
  },
  {
   "cell_type": "code",
   "execution_count": null,
   "id": "3862a064-0f43-4b54-8e5c-720fe0bc6f63",
   "metadata": {},
   "outputs": [],
   "source": [
    "leg_kwds = {'title': 'Sidewalks', 'loc': 'upper left', \n",
    "            'bbox_to_anchor': (1, 1.03), 'ncol': 2}\n",
    "ax = zipcodes.plot(figsize = (15, 15), color = 'olive')\n",
    "geo_sidewalks.plot(ax = ax,column = 'FIRST_FULL', figsize=(20, 25),\n",
    "              legend = True, legend_kwds = leg_kwds, \n",
    "              edgecolor='Red')\n",
    "ax.set_xticklabels([]) \n",
    "ax.set_yticklabels([]) \n",
    "plt.savefig(\"sidewalks.png\", transparent=True,bbox_inches='tight')\n",
    "plt.show()"
   ]
  },
  {
   "cell_type": "code",
   "execution_count": null,
   "id": "7383a381-7929-4376-b2c0-4085561d819d",
   "metadata": {},
   "outputs": [],
   "source": [
    "election = election.iloc[67:69]\n",
    "election"
   ]
  },
  {
   "cell_type": "code",
   "execution_count": null,
   "id": "28089e7a-018a-4bc7-abd4-d67a38cbf400",
   "metadata": {},
   "outputs": [],
   "source": [
    "election = election[['Name','Total Votes']]"
   ]
  },
  {
   "cell_type": "code",
   "execution_count": null,
   "id": "a4a748f1-96b8-4a94-b1c3-fa91ba23c149",
   "metadata": {},
   "outputs": [],
   "source": [
    "election.to_csv('election.csv')"
   ]
  },
  {
   "cell_type": "code",
   "execution_count": null,
   "id": "7d95615d-3cc7-45b8-b466-cbd7408157b5",
   "metadata": {},
   "outputs": [],
   "source": [
    "plt.pie(election['Total Votes'],labels = ['For','Against'],autopct='%1.0f%%'),plt.savefig(\"election.png\")"
   ]
  },
  {
   "cell_type": "code",
   "execution_count": null,
   "id": "ce14fa71-049a-4ebb-842a-6870daf657dc",
   "metadata": {},
   "outputs": [],
   "source": [
    "geo_new_routes= gpd.GeoDataFrame(new_routes, \n",
    "                           crs = zipcodes.crs, \n",
    "                           geometry = new_routes.geometry)\n",
    "geo_new_routes"
   ]
  },
  {
   "cell_type": "code",
   "execution_count": null,
   "id": "23131e3c-5da3-4ac3-8d6e-04a2fdd88e03",
   "metadata": {},
   "outputs": [],
   "source": [
    "leg_kwds = {'title': 'New Routes', 'loc': 'upper left', \n",
    "            'bbox_to_anchor': (1, 1.03), 'ncol': 2}\n",
    "ax = zipcodes.plot(figsize = (8, 10), color = 'olive')\n",
    "geo_new_routes.plot(ax = ax,column = 'Element', figsize=(10, 10),\n",
    "              legend = True, legend_kwds = leg_kwds, \n",
    "              cmap = 'gist_rainbow')\n",
    "ax.set_xticklabels([]) \n",
    "ax.set_yticklabels([]) \n",
    "plt.savefig(\"new_routes.png\", transparent=True,bbox_inches='tight')\n",
    "plt.show()"
   ]
  },
  {
   "cell_type": "code",
   "execution_count": null,
   "id": "f2f43895-f4f4-43f3-a738-2a530e842078",
   "metadata": {},
   "outputs": [],
   "source": [
    "geo_wego_star= gpd.GeoDataFrame(wego_star, \n",
    "                           crs = zipcodes.crs, \n",
    "                           geometry = wego_star.geometry)\n",
    "geo_wego_star"
   ]
  },
  {
   "cell_type": "code",
   "execution_count": null,
   "id": "bd4fc37d-48df-49a2-8735-b52203ddf381",
   "metadata": {},
   "outputs": [],
   "source": [
    "leg_kwds = {'title': 'WeGo STAR', 'loc': 'upper left', \n",
    "            'bbox_to_anchor': (1, 1.03), 'ncol': 2}\n",
    "ax = zipcodes.plot(figsize = (8, 10), color = 'olive')\n",
    "geo_wego_star.plot(ax = ax,column = 'Element', figsize=(10, 10),\n",
    "              legend = True, legend_kwds = leg_kwds, \n",
    "              cmap = 'gist_rainbow')\n",
    "ax.set_xticklabels([]) \n",
    "ax.set_yticklabels([]) \n",
    "plt.savefig(\"wego_star.png\", transparent=True,bbox_inches='tight')\n",
    "plt.show()"
   ]
  },
  {
   "cell_type": "code",
   "execution_count": null,
   "id": "1692f932-5c46-4fe0-b767-1e05df15e7aa",
   "metadata": {},
   "outputs": [],
   "source": []
  }
 ],
 "metadata": {
  "kernelspec": {
   "display_name": "Python 3 (ipykernel)",
   "language": "python",
   "name": "python3"
  },
  "language_info": {
   "codemirror_mode": {
    "name": "ipython",
    "version": 3
   },
   "file_extension": ".py",
   "mimetype": "text/x-python",
   "name": "python",
   "nbconvert_exporter": "python",
   "pygments_lexer": "ipython3",
   "version": "3.10.15"
  }
 },
 "nbformat": 4,
 "nbformat_minor": 5
}
