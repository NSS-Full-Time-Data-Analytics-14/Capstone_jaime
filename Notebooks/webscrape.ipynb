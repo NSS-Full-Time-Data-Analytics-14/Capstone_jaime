{
 "cells": [
  {
   "cell_type": "code",
   "execution_count": null,
   "id": "be42c274-bd8c-4ded-825c-a09cda58bece",
   "metadata": {},
   "outputs": [],
   "source": [
    "import requests\n",
    "from bs4 import BeautifulSoup as BS\n",
    "import pandas as pd\n",
    "import numpy as np\n",
    "import re\n",
    "from io import StringIO"
   ]
  },
  {
   "cell_type": "code",
   "execution_count": null,
   "id": "b1681228-9ddd-480a-9bc9-c75575fff1af",
   "metadata": {},
   "outputs": [],
   "source": [
    "URL = 'https://timeanddate.com/weather/usa/nashville/climate'\n",
    "\n",
    "response = requests.get(URL)"
   ]
  },
  {
   "cell_type": "code",
   "execution_count": null,
   "id": "aba1f1ea-01cb-4571-b816-02f293f11ec2",
   "metadata": {},
   "outputs": [],
   "source": [
    "response.status_code"
   ]
  },
  {
   "cell_type": "code",
   "execution_count": null,
   "id": "94ef5c25-7387-4189-8f22-38be6a8ab86a",
   "metadata": {},
   "outputs": [],
   "source": [
    "soup = BS(response.text)"
   ]
  },
  {
   "cell_type": "code",
   "execution_count": null,
   "id": "68444c7e-8993-4b50-91fe-cc0d2f4bb253",
   "metadata": {
    "scrolled": true
   },
   "outputs": [],
   "source": [
    "print(soup.prettify())"
   ]
  },
  {
   "cell_type": "code",
   "execution_count": null,
   "id": "d8acd1bf-a99e-48e9-bf2a-119aa4a2c9f2",
   "metadata": {},
   "outputs": [],
   "source": [
    "label = soup.findAll('h3')"
   ]
  },
  {
   "cell_type": "code",
   "execution_count": null,
   "id": "a3c26a01-f409-435c-9b2c-f46865a047eb",
   "metadata": {},
   "outputs": [],
   "source": [
    "pd.DataFrame(label)"
   ]
  },
  {
   "cell_type": "code",
   "execution_count": null,
   "id": "6901167c-fe48-4fea-ad07-1dc7f324a2a2",
   "metadata": {},
   "outputs": [],
   "source": [
    "def monthadd(number):\n",
    "    step = soup.findAll('div',attrs={'class':\"four columns\"})[number]\n",
    "    step = step.get_text(strip=False).replace('\\xa0°','')\n",
    "    return step"
   ]
  },
  {
   "cell_type": "code",
   "execution_count": null,
   "id": "7d046d2b-25ba-4d31-b21a-3db06daa28e7",
   "metadata": {},
   "outputs": [],
   "source": [
    "jan = monthadd(3)\n",
    "feb = monthadd(6)\n",
    "mar = monthadd(9)\n",
    "apri = monthadd(12)\n",
    "may = monthadd(15)\n",
    "june = monthadd(18)\n",
    "july = monthadd(21)\n",
    "aug = monthadd(24)\n",
    "sept = monthadd(27)\n",
    "octo = monthadd(30)\n",
    "nov = monthadd(33)\n",
    "dec = monthadd(36)"
   ]
  },
  {
   "cell_type": "code",
   "execution_count": null,
   "id": "2a27c13c-1abb-409d-a0f5-0178d5d5ac31",
   "metadata": {},
   "outputs": [],
   "source": [
    "year = jan + feb + mar + apri+ may + june + july + aug + sept + octo + nov + dec"
   ]
  },
  {
   "cell_type": "code",
   "execution_count": null,
   "id": "7f7a73db-fb0d-44c0-8ca3-17cab39b3594",
   "metadata": {},
   "outputs": [],
   "source": [
    "weather = pd.DataFrame(year.split('F'))\n",
    "weather['Temp'] = ''\n",
    "weather = weather.rename(columns = {0:'type'})\n",
    "weather = weather.head(36)"
   ]
  },
  {
   "cell_type": "code",
   "execution_count": null,
   "id": "45ecdf25-8e5d-44a6-8413-ae3b403431fa",
   "metadata": {},
   "outputs": [],
   "source": [
    "re.findall(r'\\d+', weather['type'][0])"
   ]
  },
  {
   "cell_type": "code",
   "execution_count": null,
   "id": "fa1d4833-6b2c-484e-9bfb-a8443aa4a079",
   "metadata": {},
   "outputs": [],
   "source": [
    "weather['type']"
   ]
  },
  {
   "cell_type": "code",
   "execution_count": null,
   "id": "92999045-4836-448b-997e-8c77373a8114",
   "metadata": {},
   "outputs": [],
   "source": [
    "for index, row in weather.iterrows():\n",
    "    weather.loc[index,'Temp'] = re.findall(r'\\d+', weather.loc[index,'type'])\n",
    "    "
   ]
  },
  {
   "cell_type": "code",
   "execution_count": null,
   "id": "bed8ab37-2d54-471a-bc3c-f1350f933845",
   "metadata": {},
   "outputs": [],
   "source": [
    "weather"
   ]
  },
  {
   "cell_type": "code",
   "execution_count": null,
   "id": "4b3b0e24-99cb-4bd8-87a8-44e01c619ed5",
   "metadata": {},
   "outputs": [],
   "source": [
    "for index, row in weather.iterrows():\n",
    "    weather.loc[index,'type'] = weather.loc[index,'type'][:-4]\n",
    "    weather"
   ]
  },
  {
   "cell_type": "code",
   "execution_count": null,
   "id": "d4546718-abbb-44fa-8f30-466c4d0c730f",
   "metadata": {},
   "outputs": [],
   "source": [
    "weather['Month'] = ''\n",
    "weather"
   ]
  },
  {
   "cell_type": "code",
   "execution_count": null,
   "id": "15e05b3e-7788-4e32-931f-7d4fcc7d70ce",
   "metadata": {},
   "outputs": [],
   "source": [
    "for index, row in weather.iterrows():\n",
    "    if index in [0,1,2]:\n",
    "       weather.loc[index,'Month'] = 1\n",
    "    elif index in [3,4,5]:\n",
    "       weather.loc[index,'Month'] = 2\n",
    "    elif index in [6,7,8]:\n",
    "       weather.loc[index,'Month'] = 3\n",
    "    elif index in [9,10,11]:\n",
    "       weather.loc[index,'Month'] = 4\n",
    "    elif index in [12,13,14]:\n",
    "       weather.loc[index,'Month'] = 5\n",
    "    elif index in [15,16,17]:\n",
    "       weather.loc[index,'Month'] = 6\n",
    "    elif index in [18,19,20]:\n",
    "       weather.loc[index,'Month'] = 7\n",
    "    elif index in [21,22,23]:\n",
    "       weather.loc[index,'Month'] = 8\n",
    "    elif index in [24,25,26]:\n",
    "       weather.loc[index,'Month'] = 9\n",
    "    elif index in [27,28,29]:\n",
    "       weather.loc[index,'Month'] = 10\n",
    "    elif index in [30,31,32]:\n",
    "       weather.loc[index,'Month'] = 11\n",
    "    elif index in [33,34,35]:\n",
    "       weather.loc[index,'Month'] = 12\n",
    "weather"
   ]
  },
  {
   "cell_type": "code",
   "execution_count": null,
   "id": "c93053a4-9b08-4db4-bf2b-9a5479cfe1c0",
   "metadata": {},
   "outputs": [],
   "source": []
  },
  {
   "cell_type": "code",
   "execution_count": null,
   "id": "04b9d1a7-bf8d-4ade-b2dc-ab55b396c470",
   "metadata": {},
   "outputs": [],
   "source": [
    "final = weather.pivot(columns= 'type',index='Month',values='Temp').reset_index()\n",
    "final.to_csv('weather.csv')"
   ]
  },
  {
   "cell_type": "code",
   "execution_count": null,
   "id": "368627ad-21f4-4a41-83eb-8d43fb08f398",
   "metadata": {},
   "outputs": [],
   "source": []
  },
  {
   "cell_type": "code",
   "execution_count": null,
   "id": "ee33a906-e24d-4163-a00c-50b28b5748b7",
   "metadata": {},
   "outputs": [],
   "source": []
  },
  {
   "cell_type": "code",
   "execution_count": null,
   "id": "a73012aa-8980-4228-950f-ce7ac1cd1624",
   "metadata": {},
   "outputs": [],
   "source": []
  }
 ],
 "metadata": {
  "kernelspec": {
   "display_name": "Python 3 (ipykernel)",
   "language": "python",
   "name": "python3"
  },
  "language_info": {
   "codemirror_mode": {
    "name": "ipython",
    "version": 3
   },
   "file_extension": ".py",
   "mimetype": "text/x-python",
   "name": "python",
   "nbconvert_exporter": "python",
   "pygments_lexer": "ipython3",
   "version": "3.10.15"
  }
 },
 "nbformat": 4,
 "nbformat_minor": 5
}
